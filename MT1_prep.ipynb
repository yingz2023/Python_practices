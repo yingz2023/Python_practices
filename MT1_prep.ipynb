{
  "cells": [
    {
      "cell_type": "markdown",
      "source": [
        "### 1\\. Reshaping Data: From Lists to Lookups\n",
        "\n",
        "This is the **most common pattern** on every exam. You're almost always given data as a `list` of records (like a list of dictionaries) and your first job is to reshape it into a `dict` for fast lookups.\n",
        "\n",
        "**Use Case**: You have a list of songs, and you want to group them by artist. Or, you have a list of connections `[(user_a, user_b), ...]` and you want to be able to quickly find all friends for any given user.\n",
        "\n",
        "**Your Go-To Tool**: `collections.defaultdict`\n",
        "\n",
        "  * `defaultdict(list)`: The perfect tool for grouping items. When you access a key for the first time, it automatically creates an empty list for you.\n",
        "  * `defaultdict(set)`: Useful when you need to store a collection of unique items, like a user's connections.\n",
        "  * `defaultdict(int)`: The simplest way to create a counter (see next section).\n",
        "\n",
        "**Common Syntax:**"
      ],
      "metadata": {
        "id": "dgN3kOtZQ6WY"
      }
    },
    {
      "cell_type": "code",
      "source": [
        "from collections import defaultdict\n",
        "\n",
        "# Example: Grouping songs by artist from a list of song records\n",
        "# artists_list = [{'artist': 'Taylor Swift', 'song': 'Cruel Summer'}, {'artist': 'Jung Kook', 'song': 'Seven'}, ...]\n",
        "songs_by_artist = defaultdict(list)\n",
        "\n",
        "for record in records_list:\n",
        "    # Handle cases with multiple artists by splitting the string\n",
        "    artists = record['artist_name'].split(',')\n",
        "    for artist_name in artists:\n",
        "        clean_name = artist_name.strip()\n",
        "        songs_by_artist[clean_name].append(record['song_title'])\n",
        "\n",
        "# The result is a dictionary like: {'Taylor Swift': ['Cruel Summer', ...], ...}"
      ],
      "outputs": [
        {
          "output_type": "error",
          "ename": "NameError",
          "evalue": "name 'records_list' is not defined",
          "traceback": [
            "\u001b[0;31m---------------------------------------------------------------------------\u001b[0m",
            "\u001b[0;31mNameError\u001b[0m                                 Traceback (most recent call last)",
            "\u001b[0;32m/tmp/ipython-input-2200835564.py\u001b[0m in \u001b[0;36m<cell line: 0>\u001b[0;34m()\u001b[0m\n\u001b[1;32m      5\u001b[0m \u001b[0msongs_by_artist\u001b[0m \u001b[0;34m=\u001b[0m \u001b[0mdefaultdict\u001b[0m\u001b[0;34m(\u001b[0m\u001b[0mlist\u001b[0m\u001b[0;34m)\u001b[0m\u001b[0;34m\u001b[0m\u001b[0;34m\u001b[0m\u001b[0m\n\u001b[1;32m      6\u001b[0m \u001b[0;34m\u001b[0m\u001b[0m\n\u001b[0;32m----> 7\u001b[0;31m \u001b[0;32mfor\u001b[0m \u001b[0mrecord\u001b[0m \u001b[0;32min\u001b[0m \u001b[0mrecords_list\u001b[0m\u001b[0;34m:\u001b[0m\u001b[0;34m\u001b[0m\u001b[0;34m\u001b[0m\u001b[0m\n\u001b[0m\u001b[1;32m      8\u001b[0m     \u001b[0;31m# Handle cases with multiple artists by splitting the string\u001b[0m\u001b[0;34m\u001b[0m\u001b[0;34m\u001b[0m\u001b[0m\n\u001b[1;32m      9\u001b[0m     \u001b[0martists\u001b[0m \u001b[0;34m=\u001b[0m \u001b[0mrecord\u001b[0m\u001b[0;34m[\u001b[0m\u001b[0;34m'artist_name'\u001b[0m\u001b[0;34m]\u001b[0m\u001b[0;34m.\u001b[0m\u001b[0msplit\u001b[0m\u001b[0;34m(\u001b[0m\u001b[0;34m','\u001b[0m\u001b[0;34m)\u001b[0m\u001b[0;34m\u001b[0m\u001b[0;34m\u001b[0m\u001b[0m\n",
            "\u001b[0;31mNameError\u001b[0m: name 'records_list' is not defined"
          ]
        }
      ],
      "execution_count": 1,
      "metadata": {
        "colab": {
          "base_uri": "https://localhost:8080/",
          "height": 216
        },
        "collapsed": true,
        "id": "hovMquAvQ6Wb",
        "outputId": "c27ef0d2-b75c-49f0-dff2-68d73c3b723e"
      }
    },
    {
      "cell_type": "code",
      "source": [
        "from google.colab import drive\n",
        "drive.mount('/content/drive')"
      ],
      "metadata": {
        "id": "2fdvItjWRRSj"
      },
      "execution_count": null,
      "outputs": []
    },
    {
      "cell_type": "markdown",
      "source": [
        "-----\n",
        "\n",
        "### 2\\. Counting and Aggregation\n",
        "\n",
        "Another universal task is counting things: how many times a word appears, how many songs an artist has, the number of visits per country.\n",
        "\n",
        "**Use Case**: You have a long text and need to count word frequencies. You have check-in data and need to count visits by country.\n",
        "\n",
        "**Your Go-To Tools**: `collections.defaultdict(int)` or `collections.Counter`\n",
        "\n",
        "  * A `defaultdict(int)` starts every new key's count at 0, which is very convenient.\n",
        "  * A `Counter` is often even more direct. You can initialize it from a list of items to count them all at once.\n",
        "\n",
        "**Common Syntax:**"
      ],
      "metadata": {
        "id": "huxdIVQJQ6Wc"
      }
    },
    {
      "cell_type": "code",
      "source": [
        "from collections import Counter, defaultdict\n",
        "\n",
        "# --- Using defaultdict(int) ---\n",
        "# Example: Counting visits by country\n",
        "country_counts = defaultdict(int)\n",
        "for visit in all_visits:\n",
        "    # Assuming 'visit' is a dict with a 'country_code' key\n",
        "    country_counts[visit['country_code']] += 1\n",
        "\n",
        "# --- Using Counter ---\n",
        "# Example: Counting words in a list\n",
        "all_words = ['hello', 'world', 'hello', 'python']\n",
        "word_counts = Counter(all_words)\n",
        "# Result: Counter({'hello': 2, 'world': 1, 'python': 1})\n",
        "\n",
        "# Example: Counting bigrams (pairs of words)\n",
        "bigrams = [('in', 'the'), ('the', 'end'), ('in', 'the')]\n",
        "bigram_counts = Counter(bigrams)\n",
        "# Result: Counter({('in', 'the'): 2, ('the', 'end'): 1})"
      ],
      "outputs": [],
      "execution_count": null,
      "metadata": {
        "id": "DPV57YQ_Q6Wc"
      }
    },
    {
      "cell_type": "markdown",
      "source": [
        "-----\n",
        "\n",
        "### 3\\. Advanced Sorting\n",
        "\n",
        "You will **definitely** be asked to sort data. It's rarely a simple sort. Usually, you need to sort by one value in descending order and then break ties by sorting by another value in ascending order.\n",
        "\n",
        "**Use Case**: Rank artists first by the number of songs they have (most to least), and if there's a tie, rank them by name alphabetically.\n",
        "\n",
        "**Your Go-To Tool**: `sorted()` with a `lambda` function as the `key`.\n",
        "\n",
        "**Common Syntax:**\n",
        "\n",
        "The key to multi-level sorting is to return a **tuple** from your lambda function. Python sorts by the first element of the tuple, then the second to break ties, and so on."
      ],
      "metadata": {
        "id": "h92vhb_vQ6Wd"
      }
    },
    {
      "cell_type": "code",
      "source": [
        "# data is a list of tuples: [('Taylor Swift', 10, 5000), ('Jung Kook', 12, 4500), ...]\n",
        "# where each tuple is (artist_name, song_count, total_streams)\n",
        "\n",
        "# Sort by song_count (descending), then artist_name (ascending)\n",
        "# To sort a number in descending order, just negate it!\n",
        "sorted_data = sorted(data, key=lambda item: (-item[1], item[0]))\n",
        "\n",
        "# item[1] is song_count. -item[1] makes it sort descending.\n",
        "# item[0] is artist_name. It sorts ascending by default."
      ],
      "outputs": [],
      "execution_count": null,
      "metadata": {
        "id": "JrArsgoKQ6Wd"
      }
    },
    {
      "cell_type": "markdown",
      "source": [
        "This single line of code is one of the most powerful and frequently tested concepts. Practice it\\!\n",
        "\n",
        "-----\n",
        "\n",
        "### 4\\. String Cleaning & Regular Expressions\n",
        "\n",
        "Raw text data is always messy. You'll need to clean it before you can analyze it. This usually involves a pipeline of several small steps.\n",
        "\n",
        "**Use Case**: You're given raw song lyrics with punctuation, mixed case, and parenthetical notes like `(Ooh!)` that you need to remove.\n",
        "\n",
        "**Your Go-To Tools**: Standard string methods and the `re` (regular expressions) module.\n",
        "\n",
        "**Common Syntax:**"
      ],
      "metadata": {
        "id": "BkOgODj-Q6Wd"
      }
    },
    {
      "cell_type": "code",
      "source": [
        "import re\n",
        "\n",
        "raw_text = \"  (Yeah!) Python's my favorite--I give it a 10/10! \\n\"\n",
        "\n",
        "# 1. Make lowercase and remove leading/trailing whitespace\n",
        "text = raw_text.lower().strip()\n",
        "# -> \"(yeah!) python's my favorite--i give it a 10/10!\"\n",
        "\n",
        "# 2. Remove parenthetical phrases\n",
        "text = re.sub(r'\\(.*?\\)', '', text)\n",
        "# -> \" python's my favorite--i give it a 10/10!\"\n",
        "\n",
        "# 3. Remove punctuation (keep letters, numbers, spaces, and apostrophes)\n",
        "text = re.sub(r\"[^a-z0-9' ]\", '', text)\n",
        "# -> \" pythons my favoritei give it a 1010\"\n",
        "# (Note: be careful with your regex to preserve spaces!)\n",
        "\n",
        "# 4. A better way: Replace non-alphanumeric chars with a space, then join\n",
        "text = re.sub(r'[^a-z0-9\\']', ' ', text) # Replace with space\n",
        "words = text.split()                      # Split into words\n",
        "clean_text = ' '.join(words)              # Rejoin with single spaces\n",
        "# -> \"python's my favorite i give it a 10 10\""
      ],
      "outputs": [],
      "execution_count": null,
      "metadata": {
        "id": "0UMXLqvOQ6We"
      }
    },
    {
      "cell_type": "markdown",
      "source": [
        "-----\n",
        "\n",
        "### 5\\. Implementing Mathematical Formulas\n",
        "\n",
        "Often, you'll be given a mathematical formula, like for cosine similarity or a Naive Bayes score, and asked to translate it into code.\n",
        "\n",
        "**Use Case**: Calculate the \"cosine similarity\" between two vectors $v_0$ and $v_1$. The formula is $cos(\\theta) = \\frac{v_0 \\cdot v_1}{\\|v_0\\| \\|v_1\\|}$.\n",
        "\n",
        "**Your Go-To Tools**: The `math` module and `sum()` with generator expressions.\n",
        "\n",
        "**Common Syntax:**"
      ],
      "metadata": {
        "id": "sNDZZRxNQ6We"
      }
    },
    {
      "cell_type": "code",
      "source": [
        "import math\n",
        "\n",
        "# Assume v0 and v1 are dictionaries mapping words to counts: {'python': 3, 'code': 5}\n",
        "# The vectors only share dimensions for words present in both.\n",
        "dot_product = sum(v0[k] * v1[k] for k in v0.keys() & v1.keys())\n",
        "\n",
        "# Calculate magnitude (norm) of v0\n",
        "mag_v0 = math.sqrt(sum(v**2 for v in v0.values()))\n",
        "\n",
        "# Calculate magnitude (norm) of v1\n",
        "mag_v1 = math.sqrt(sum(v**2 for v in v1.values()))\n",
        "\n",
        "# Calculate cosine similarity\n",
        "if mag_v0 > 0 and mag_v1 > 0:\n",
        "    cosine_sim = dot_product / (mag_v0 * mag_v1)\n",
        "else:\n",
        "    cosine_sim = 0.0"
      ],
      "outputs": [],
      "execution_count": null,
      "metadata": {
        "id": "NE9JYdVuQ6We"
      }
    },
    {
      "cell_type": "markdown",
      "source": [
        "**Key takeaway**: Don't be intimidated by the formulas. Break them down piece by piece: numerator, denominator, sums, square roots, etc. The Python code is usually very direct.\n",
        "\n",
        "-----\n",
        "\n",
        "Good luck with your studies. Go back through these exams and try to label each problem with one or more of the patterns above. You'll see just how repeatable they are. You've got this\\!\n",
        "\n",
        "Best,\n",
        "Your Professor"
      ],
      "metadata": {
        "id": "Mr-wU-QMQ6We"
      }
    }
  ],
  "metadata": {
    "colab": {
      "provenance": [],
      "toc_visible": true
    },
    "kernelspec": {
      "display_name": "Python 3",
      "name": "python3"
    }
  },
  "nbformat": 4,
  "nbformat_minor": 0
}